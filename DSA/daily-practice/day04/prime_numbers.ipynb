{
 "cells": [
  {
   "cell_type": "markdown",
   "id": "3ec6dd3f",
   "metadata": {},
   "source": [
    "##### Write a program to check whether a given number is prime or not."
   ]
  },
  {
   "cell_type": "code",
   "execution_count": 26,
   "id": "c6ad9ccc",
   "metadata": {},
   "outputs": [
    {
     "name": "stdout",
     "output_type": "stream",
     "text": [
      "19\n",
      "num: 18\n",
      "Not Prime\n"
     ]
    }
   ],
   "source": [
    "def checkPrime(n):\n",
    "    count = 0\n",
    "    num = 0\n",
    "    i = 2\n",
    "    while i * i <= n:\n",
    "        num += 1\n",
    "        if n % i == 0:\n",
    "            print(i)\n",
    "            count += 1\n",
    "            break\n",
    "        i += 1\n",
    "\n",
    "    print(\"num:\", num)\n",
    "    \n",
    "    if count == 0:\n",
    "        print(\"Prime\")\n",
    "    else:\n",
    "        print(\"Not Prime\")\n",
    "\n",
    "n = 2033\n",
    "checkPrime(n)\n"
   ]
  },
  {
   "cell_type": "markdown",
   "id": "71305396",
   "metadata": {},
   "source": [
    "##### Write a program to find the total number of prime numbers up to a given number n"
   ]
  },
  {
   "cell_type": "code",
   "execution_count": 1,
   "id": "73e7c6ed",
   "metadata": {},
   "outputs": [
    {
     "name": "stdout",
     "output_type": "stream",
     "text": [
      "4\n"
     ]
    }
   ],
   "source": [
    "def PrimeNumber(n):\n",
    "    count = 0\n",
    "    for i in range(2, n):\n",
    "        if n % i == 0:\n",
    "            count+=1\n",
    "            break\n",
    "    if n > 1 and count == 0:\n",
    "        return 1\n",
    "    else:\n",
    "        return 0\n",
    "        \n",
    "\n",
    "def totalPrimes(n):\n",
    "    total =0\n",
    "    for i in range(1, n+1):\n",
    "        total+=PrimeNumber(i)\n",
    "    print(total)\n",
    "\n",
    "n = 10\n",
    "totalPrimes(n)"
   ]
  },
  {
   "cell_type": "markdown",
   "id": "63acbc9c",
   "metadata": {},
   "source": [
    "##### Write a program to check whether numbers in the given range from n to m are prime or not\n"
   ]
  },
  {
   "cell_type": "code",
   "execution_count": null,
   "id": "562ec4be",
   "metadata": {},
   "outputs": [],
   "source": [
    "def is_prime(n,m):\n",
    "    return"
   ]
  },
  {
   "cell_type": "markdown",
   "id": "6c6c543e",
   "metadata": {},
   "source": [
    "##### Write a program to print the prime factors of a given number."
   ]
  },
  {
   "cell_type": "code",
   "execution_count": 2,
   "id": "66edf932",
   "metadata": {},
   "outputs": [
    {
     "name": "stdout",
     "output_type": "stream",
     "text": [
      "2\n",
      "2\n",
      "19\n"
     ]
    }
   ],
   "source": [
    "def PrimeFactors(n):\n",
    "    i = 2\n",
    "    while n >1:\n",
    "        if n % i == 0:\n",
    "            n = n // i\n",
    "            print(i)\n",
    "        else:\n",
    "            i += 1\n",
    "\n",
    "n = 76\n",
    "PrimeFactors(n)"
   ]
  },
  {
   "cell_type": "markdown",
   "id": "aa4c9014",
   "metadata": {},
   "source": [
    "##### Write a program to find the LCM, HCF, and GCD of two numbers."
   ]
  },
  {
   "cell_type": "code",
   "execution_count": null,
   "id": "9c602c9b",
   "metadata": {},
   "outputs": [
    {
     "name": "stdout",
     "output_type": "stream",
     "text": [
      "2 \n",
      "3 \n",
      "3 \n",
      "7 \n",
      "\n",
      "LCM is: 126\n",
      "GCD is: 3\n"
     ]
    }
   ],
   "source": [
    "def LCM(n, m):\n",
    "    original_n = n\n",
    "    original_m = m\n",
    "    lcm = 1\n",
    "    i = 2\n",
    "    \n",
    "    while n > 1 or m > 1:\n",
    "        if n % i == 0 or m % i == 0:\n",
    "            if n % i == 0:\n",
    "                n = n // i\n",
    "            if m % i == 0:\n",
    "                m = m // i\n",
    "            lcm *= i\n",
    "            print(str(i) + \" \")\n",
    "        else:\n",
    "            i += 1\n",
    "        \n",
    "    gcd = (original_n * original_m) // lcm\n",
    "    print(\"\\nLCM is:\", lcm)\n",
    "    print(\"GCD is:\", gcd)\n",
    "\n",
    "LCM(18, 21)"
   ]
  },
  {
   "cell_type": "code",
   "execution_count": null,
   "id": "20d62d33",
   "metadata": {},
   "outputs": [],
   "source": []
  }
 ],
 "metadata": {
  "kernelspec": {
   "display_name": ".venv",
   "language": "python",
   "name": "python3"
  },
  "language_info": {
   "codemirror_mode": {
    "name": "ipython",
    "version": 3
   },
   "file_extension": ".py",
   "mimetype": "text/x-python",
   "name": "python",
   "nbconvert_exporter": "python",
   "pygments_lexer": "ipython3",
   "version": "3.11.2"
  }
 },
 "nbformat": 4,
 "nbformat_minor": 5
}
