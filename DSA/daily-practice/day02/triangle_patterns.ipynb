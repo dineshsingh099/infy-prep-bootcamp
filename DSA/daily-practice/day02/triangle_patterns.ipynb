{
 "cells": [
  {
   "cell_type": "markdown",
   "id": "040bd6d7",
   "metadata": {},
   "source": [
    "##### Write the program print the triangle patterns"
   ]
  },
  {
   "cell_type": "code",
   "execution_count": 4,
   "id": "8dae6e83",
   "metadata": {},
   "outputs": [
    {
     "name": "stdout",
     "output_type": "stream",
     "text": [
      "1 \n",
      "1 2 \n",
      "1 2 3 \n",
      "1 2 3 4 \n"
     ]
    }
   ],
   "source": [
    "def tringle_right_side(n):\n",
    "    for i in range(1, n+1):\n",
    "        for j in range(1, i+1):\n",
    "            print(j, end=' ')\n",
    "        print()\n",
    "\n",
    "n = 4\n",
    "tringle_right_side(n)"
   ]
  },
  {
   "cell_type": "code",
   "execution_count": null,
   "id": "e865ef68",
   "metadata": {},
   "outputs": [],
   "source": []
  }
 ],
 "metadata": {
  "kernelspec": {
   "display_name": ".venv",
   "language": "python",
   "name": "python3"
  },
  "language_info": {
   "codemirror_mode": {
    "name": "ipython",
    "version": 3
   },
   "file_extension": ".py",
   "mimetype": "text/x-python",
   "name": "python",
   "nbconvert_exporter": "python",
   "pygments_lexer": "ipython3",
   "version": "3.11.2"
  }
 },
 "nbformat": 4,
 "nbformat_minor": 5
}
