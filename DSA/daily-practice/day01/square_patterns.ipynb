{
 "cells": [
  {
   "cell_type": "markdown",
   "id": "bb8ec16b",
   "metadata": {},
   "source": [
    "##### write a program print the sequre patterns"
   ]
  },
  {
   "cell_type": "code",
   "execution_count": 2,
   "id": "a2df82c7",
   "metadata": {},
   "outputs": [
    {
     "name": "stdout",
     "output_type": "stream",
     "text": [
      "1 2 3 4 \n",
      "1 2 3 4 \n",
      "1 2 3 4 \n",
      "1 2 3 4 \n"
     ]
    }
   ],
   "source": [
    "def sequre_pattern1(n):\n",
    "    for i in range(1, n+1):\n",
    "        for j in range(1, n+1):\n",
    "            print(j, end=' ')\n",
    "        print()\n",
    "\n",
    "n = 4\n",
    "sequre_pattern1(n)"
   ]
  },
  {
   "cell_type": "code",
   "execution_count": 3,
   "id": "5f8df9f0",
   "metadata": {},
   "outputs": [
    {
     "name": "stdout",
     "output_type": "stream",
     "text": [
      "1 1 1 1 \n",
      "2 2 2 2 \n",
      "3 3 3 3 \n",
      "4 4 4 4 \n"
     ]
    }
   ],
   "source": [
    "def sequre_pattern2(n):\n",
    "    for i in range(1, n+1):\n",
    "        for j in range(1, n+1):\n",
    "            print(i, end=' ')\n",
    "        print()\n",
    "n = 4\n",
    "sequre_pattern2(n)"
   ]
  },
  {
   "cell_type": "code",
   "execution_count": 17,
   "id": "6182abbe",
   "metadata": {},
   "outputs": [
    {
     "name": "stdout",
     "output_type": "stream",
     "text": [
      "4 4 4 4 \n",
      "3 3 3 3 \n",
      "2 2 2 2 \n",
      "1 1 1 1 \n"
     ]
    }
   ],
   "source": [
    "def sequre_pattern3(n):\n",
    "    for i in range(n, 0, -1):\n",
    "        for j in range(1, n+1 ):\n",
    "            print(i, end=' ')\n",
    "        print()\n",
    "n = 4\n",
    "sequre_pattern3(n)\n"
   ]
  },
  {
   "cell_type": "code",
   "execution_count": 18,
   "id": "8c4cbe03",
   "metadata": {},
   "outputs": [
    {
     "name": "stdout",
     "output_type": "stream",
     "text": [
      "4 3 2 1 \n",
      "4 3 2 1 \n",
      "4 3 2 1 \n",
      "4 3 2 1 \n"
     ]
    }
   ],
   "source": [
    "def sequre_pattern4(n):\n",
    "    for i in range(1, n+1):\n",
    "        for j in range(n,0, -1):\n",
    "            print(j, end=' ')\n",
    "        print()\n",
    "        \n",
    "n = 4\n",
    "sequre_pattern4(n)"
   ]
  },
  {
   "cell_type": "code",
   "execution_count": 20,
   "id": "0f60d308",
   "metadata": {},
   "outputs": [
    {
     "name": "stdout",
     "output_type": "stream",
     "text": [
      "1 3 5 7 \n",
      "1 3 5 7 \n",
      "1 3 5 7 \n",
      "1 3 5 7 \n"
     ]
    }
   ],
   "source": [
    "def sequre_pattern5(n):\n",
    "    for i in range(1, n+1):\n",
    "        for j in range(1, n+1):\n",
    "            print(2*j -1, end=' ')\n",
    "        print()\n",
    "\n",
    "n = 4\n",
    "sequre_pattern5(n)"
   ]
  },
  {
   "cell_type": "code",
   "execution_count": 23,
   "id": "9150ae39",
   "metadata": {},
   "outputs": [
    {
     "name": "stdout",
     "output_type": "stream",
     "text": [
      "7 5 3 1 \n",
      "7 5 3 1 \n",
      "7 5 3 1 \n",
      "7 5 3 1 \n"
     ]
    }
   ],
   "source": [
    "def square_pattern6(n):\n",
    "    for i in range(n):\n",
    "        for j in range(7, 0, -2):   \n",
    "            print(j, end=' ')\n",
    "        print()\n",
    "\n",
    "n = 4\n",
    "square_pattern6(n)\n"
   ]
  },
  {
   "cell_type": "code",
   "execution_count": 28,
   "id": "2677ecc1",
   "metadata": {},
   "outputs": [
    {
     "name": "stdout",
     "output_type": "stream",
     "text": [
      "2 4 6 8 \n",
      "2 4 6 8 \n",
      "2 4 6 8 \n",
      "2 4 6 8 \n"
     ]
    }
   ],
   "source": [
    "def sequre_pattern7(n):\n",
    "    for i in range(1, n+1):\n",
    "        for j in range(1, n+1):\n",
    "                print(2*j, end=' ')\n",
    "        print()\n",
    "n = 4\n",
    "sequre_pattern7(n)"
   ]
  },
  {
   "cell_type": "code",
   "execution_count": 29,
   "id": "e8fc033f",
   "metadata": {},
   "outputs": [
    {
     "name": "stdout",
     "output_type": "stream",
     "text": [
      "8 6 4 2 \n",
      "8 6 4 2 \n",
      "8 6 4 2 \n",
      "8 6 4 2 \n"
     ]
    }
   ],
   "source": [
    "def sequre_pattern8(n):\n",
    "    for i in range(n):\n",
    "        for j in range(8, 0, -2):\n",
    "            print(j, end= ' ')\n",
    "        print()\n",
    "n = 4\n",
    "sequre_pattern8(n)"
   ]
  },
  {
   "cell_type": "code",
   "execution_count": 32,
   "id": "f7977855",
   "metadata": {},
   "outputs": [
    {
     "name": "stdout",
     "output_type": "stream",
     "text": [
      "1 2 3 4 \n",
      "1 2 3 4 \n",
      "1 2 3 4 \n",
      "1 2 3 4 \n"
     ]
    }
   ],
   "source": [
    "def sequre_pattern9(n):\n",
    "    for i in range(1,n+1):\n",
    "        for j in range(1, n+1):\n",
    "            print(j,end=' ')\n",
    "        print()\n",
    "\n",
    "n = 4\n",
    "sequre_pattern9(n)"
   ]
  },
  {
   "cell_type": "code",
   "execution_count": 33,
   "id": "690b364b",
   "metadata": {},
   "outputs": [
    {
     "name": "stdout",
     "output_type": "stream",
     "text": [
      "1 2 3 4 \n",
      "5 6 7 8 \n",
      "9 10 11 12 \n",
      "13 14 15 16 \n"
     ]
    }
   ],
   "source": [
    "def sequre_pattern10(n):\n",
    "    temp = 1\n",
    "    for i in range(1, n+1):\n",
    "        for j in range(1, n+1):\n",
    "            print(temp, end=' ')\n",
    "            temp+=1\n",
    "        print()\n",
    "n = 4\n",
    "sequre_pattern10(n)"
   ]
  },
  {
   "cell_type": "code",
   "execution_count": 41,
   "id": "f208e14e",
   "metadata": {},
   "outputs": [
    {
     "name": "stdout",
     "output_type": "stream",
     "text": [
      "16 15 14 13 \n",
      "12 11 10 9 \n",
      "8 7 6 5 \n",
      "4 3 2 1 \n"
     ]
    }
   ],
   "source": [
    "def sequre_pattern11(n):\n",
    "    temp = n * n\n",
    "    for i in range(1, n+1):\n",
    "        for j in range(1, n+1):\n",
    "            print(temp, end=' ')\n",
    "            temp-=1\n",
    "        print()\n",
    "n = 4\n",
    "sequre_pattern11(n)"
   ]
  },
  {
   "cell_type": "code",
   "execution_count": 44,
   "id": "ff7d3401",
   "metadata": {},
   "outputs": [
    {
     "name": "stdout",
     "output_type": "stream",
     "text": [
      "1 3 5 7 \n",
      "9 11 13 15 \n",
      "17 19 21 23 \n",
      "25 27 29 31 \n"
     ]
    }
   ],
   "source": [
    "def sequre_pattern12(n):\n",
    "    temp = 1\n",
    "    for i in range(1, n+1):\n",
    "        for j in range(1, n+1):\n",
    "            print(temp, end=' ')\n",
    "            temp+=2\n",
    "        print()\n",
    "n = 4\n",
    "sequre_pattern12(n)"
   ]
  },
  {
   "cell_type": "code",
   "execution_count": 48,
   "id": "664ebddb",
   "metadata": {},
   "outputs": [
    {
     "name": "stdout",
     "output_type": "stream",
     "text": [
      "1 3 5 7 \n",
      "9 11 13 15 \n",
      "17 19 21 23 \n",
      "25 27 29 31 \n"
     ]
    }
   ],
   "source": [
    "def sequre_pattern12(n):\n",
    "    temp = 1\n",
    "    for i in range(1, n+1):\n",
    "        for j in range(1, n+1):\n",
    "            print(temp, end=' ')\n",
    "            temp+=2\n",
    "        print()\n",
    "n = 4\n",
    "sequre_pattern12(n)"
   ]
  },
  {
   "cell_type": "code",
   "execution_count": 49,
   "id": "46433f54",
   "metadata": {},
   "outputs": [
    {
     "name": "stdout",
     "output_type": "stream",
     "text": [
      "31 29 27 25 \n",
      "23 21 19 17 \n",
      "15 13 11 9 \n",
      "7 5 3 1 \n"
     ]
    }
   ],
   "source": [
    "def sequre_pattern13(n):\n",
    "    num = 2 * n * n - 1  \n",
    "    for i in range(n):\n",
    "        for j in range(n):\n",
    "            print(num, end=' ')\n",
    "            num -= 2\n",
    "        print()\n",
    "\n",
    "n = 4\n",
    "sequre_pattern13(n)\n"
   ]
  },
  {
   "cell_type": "code",
   "execution_count": 56,
   "id": "f02ceb44",
   "metadata": {},
   "outputs": [
    {
     "name": "stdout",
     "output_type": "stream",
     "text": [
      "2 4 6 8 \n",
      "10 12 14 16 \n",
      "18 20 22 24 \n",
      "26 28 30 32 \n"
     ]
    }
   ],
   "source": [
    "def sequre_pattern14(n):\n",
    "    temp = 2\n",
    "    for i in range(1, n+1):\n",
    "        for j in range(1, n+1):\n",
    "            print(temp, end=' ')\n",
    "            temp += 2\n",
    "        print()\n",
    "\n",
    "n = 4\n",
    "sequre_pattern14(n)\n"
   ]
  },
  {
   "cell_type": "code",
   "execution_count": 60,
   "id": "fe3656b2",
   "metadata": {},
   "outputs": [
    {
     "name": "stdout",
     "output_type": "stream",
     "text": [
      "32 30 28 26 \n",
      "24 22 20 18 \n",
      "16 14 12 10 \n",
      "8 6 4 2 \n"
     ]
    }
   ],
   "source": [
    "def sequre_pattern14(n):\n",
    "    temp = n * n * 2\n",
    "    for i in range(1, n+1):\n",
    "        for j in range(1, n+1):\n",
    "            print(temp, end=' ')\n",
    "            temp -= 2\n",
    "        print()\n",
    "\n",
    "n = 4\n",
    "sequre_pattern14(n)\n"
   ]
  },
  {
   "cell_type": "code",
   "execution_count": null,
   "id": "a1a7b1f3",
   "metadata": {},
   "outputs": [],
   "source": []
  }
 ],
 "metadata": {
  "kernelspec": {
   "display_name": ".venv",
   "language": "python",
   "name": "python3"
  },
  "language_info": {
   "codemirror_mode": {
    "name": "ipython",
    "version": 3
   },
   "file_extension": ".py",
   "mimetype": "text/x-python",
   "name": "python",
   "nbconvert_exporter": "python",
   "pygments_lexer": "ipython3",
   "version": "3.11.2"
  }
 },
 "nbformat": 4,
 "nbformat_minor": 5
}
